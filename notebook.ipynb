{
 "cells": [
  {
   "cell_type": "markdown",
   "metadata": {},
   "source": [
    "# NBA Game Predictor\n",
    "---\n",
    "Predict outcome of NBA game based on box score data"
   ]
  },
  {
   "cell_type": "markdown",
   "metadata": {},
   "source": [
    "DS 231 Assignment Documentation:\n",
    "\n",
    ">I will predict the WINorLOSS column using a classification model. There are two classes within the target(W and L), and they are perfectly balanced at 50/50.\n",
    ">I will use accuracy as my main evaluation metric, with some consideration given to precision and recall as well.\n",
    ">To address the issue of leaky features, I will only be including a total combined score for each game and drop each team's point total from the data."
   ]
  },
  {
   "cell_type": "code",
   "execution_count": 57,
   "metadata": {},
   "outputs": [],
   "source": [
    "import pandas as pd\n",
    "import numpy as np\n",
    "from sklearn.pipeline import make_pipeline\n",
    "from sklearn.ensemble import RandomForestClassifier\n",
    "from sklearn.metrics import accuracy_score\n",
    "from category_encoders import OrdinalEncoder"
   ]
  },
  {
   "cell_type": "code",
   "execution_count": 89,
   "metadata": {},
   "outputs": [],
   "source": [
    "def wrangle(filepath):\n",
    "    df = pd.read_csv(filepath,\n",
    "                     parse_dates=['Date'],\n",
    "                     index_col='Date')\n",
    "    \n",
    "    # Drop extraneous 'unnamed' column\n",
    "    df.drop(columns='Unnamed: 0', inplace=True)\n",
    "    \n",
    "    # Transform Home feature into 1/0 (1 for home, 0 for away)\n",
    "    df['Home'] = df['Home'].apply(lambda x: 1 if x == 'Home' else 0)\n",
    "    \n",
    "    # Transform WINorLOSS to Win and 1/0\n",
    "    df['Win'] = df['WINorLOSS'].apply(lambda x: 1 if x == 'W' else 0)\n",
    "    df.drop(columns=['WINorLOSS'], inplace=True)\n",
    "    \n",
    "    # Create Total Points feature\n",
    "    df['TotalPoints'] = df['TeamPoints'] + df['OpponentPoints']\n",
    "    \n",
    "    # Create Defensive Rebounds feature\n",
    "    df['DefRebound'] = df['TotalRebounds'] - df['OffRebounds']\n",
    "    df['Opp.DefRebound'] = df['Opp.TotalRebounds'] - df['Opp.OffRebounds']\n",
    "    \n",
    "    ## Create features for the 'Four Factors'\n",
    "    # Shooting : (FG + 0.5 * 3FG) / FGA\n",
    "    df['Team_EFG'] = (df['FieldGoals'] + 0.5 * df['X3PointShots']) / df['FieldGoalsAttempted']\n",
    "    df['Opp_EFG'] = (df['Opp.FieldGoals'] + 0.5 * df['Opp.3PointShots']) / df['Opp.FieldGoalsAttempted']\n",
    "    \n",
    "    # Turnovers : TOV / (FGA + 0.44 * FTA + TOV)\n",
    "    df['Team_TOV'] = df['Turnovers'] / (df['FieldGoalsAttempted'] + 0.44 * df['FreeThrowsAttempted'] + df['Turnovers'])\n",
    "    df['Opp_TOV'] = df['Opp.Turnovers'] / (df['Opp.FieldGoalsAttempted'] + 0.44 * df['Opp.FreeThrowsAttempted'] + df['Opp.Turnovers'])\n",
    "    \n",
    "    # Rebounding : DRB / (Opp ORB + DRB)\n",
    "    df['Team_DRBP'] = df['DefRebound'] / (df['Opp.OffRebounds'] + df['DefRebound'])\n",
    "    df['Opp_DRBP'] = df['Opp.DefRebound'] / (df['OffRebounds'] + df['Opp.DefRebound'])\n",
    "    \n",
    "    # Freethrows : FT / FGA\n",
    "    df['Team_FTR'] = df['FreeThrows'] / df['FieldGoalsAttempted']\n",
    "    df['Opp_FTR'] = df['Opp.FreeThrows'] / df['Opp.FieldGoalsAttempted']\n",
    "    \n",
    "    # Drop redundant features\n",
    "    redundant = [col for col in df.columns if col[-1] == '.']\n",
    "    df.drop(columns=redundant, inplace=True)\n",
    "    \n",
    "    # Drop leaky columns\n",
    "    leaky_cols = ['TeamPoints', 'OpponentPoints']\n",
    "    df.drop(columns=leaky_cols, inplace=True)\n",
    "    \n",
    "    return df\n",
    "\n",
    "df = wrangle('data/nba.games.stats.csv')"
   ]
  },
  {
   "cell_type": "code",
   "execution_count": 55,
   "metadata": {},
   "outputs": [
    {
     "name": "stdout",
     "output_type": "stream",
     "text": [
      "Index(['Team', 'Game', 'Home', 'Opponent', 'FieldGoals', 'FieldGoalsAttempted',\n",
      "       'X3PointShots', 'X3PointShotsAttempted', 'FreeThrows',\n",
      "       'FreeThrowsAttempted', 'OffRebounds', 'TotalRebounds', 'Assists',\n",
      "       'Steals', 'Blocks', 'Turnovers', 'TotalFouls', 'Opp.FieldGoals',\n",
      "       'Opp.FieldGoalsAttempted', 'Opp.3PointShots',\n",
      "       'Opp.3PointShotsAttempted', 'Opp.FreeThrows', 'Opp.FreeThrowsAttempted',\n",
      "       'Opp.OffRebounds', 'Opp.TotalRebounds', 'Opp.Assists', 'Opp.Steals',\n",
      "       'Opp.Blocks', 'Opp.Turnovers', 'Opp.TotalFouls', 'Win', 'TotalPoints',\n",
      "       'DefRebound', 'Opp.DefRebound', 'Team_EFG', 'Opp_EFG', 'Team_TOV',\n",
      "       'Opp_TOV', 'Team_DRBP', 'Opp_DRBP', 'Team_FTR', 'Opp_FTR'],\n",
      "      dtype='object')\n",
      "(9840, 42)\n"
     ]
    },
    {
     "data": {
      "text/plain": [
       "0"
      ]
     },
     "execution_count": 55,
     "metadata": {},
     "output_type": "execute_result"
    }
   ],
   "source": [
    "print(df.columns)\n",
    "print(df.shape)\n",
    "#df.head()"
   ]
  },
  {
   "cell_type": "code",
   "execution_count": 87,
   "metadata": {},
   "outputs": [
    {
     "name": "stderr",
     "output_type": "stream",
     "text": [
      "/var/folders/vh/7g_fy3h10bn9zh6m52m16cr40000gn/T/ipykernel_15446/2950289628.py:11: FutureWarning: Value based partial slicing on non-monotonic DatetimeIndexes with non-existing keys is deprecated and will raise a KeyError in a future Version.\n",
      "  X_train, y_train = X.loc[train_cutoff], y.loc[train_cutoff]\n",
      "/var/folders/vh/7g_fy3h10bn9zh6m52m16cr40000gn/T/ipykernel_15446/2950289628.py:14: FutureWarning: Value based partial slicing on non-monotonic DatetimeIndexes with non-existing keys is deprecated and will raise a KeyError in a future Version.\n",
      "  X_val, y_val = X.loc[val_cutoff], y.loc[val_cutoff]\n",
      "/var/folders/vh/7g_fy3h10bn9zh6m52m16cr40000gn/T/ipykernel_15446/2950289628.py:17: FutureWarning: Value based partial slicing on non-monotonic DatetimeIndexes with non-existing keys is deprecated and will raise a KeyError in a future Version.\n",
      "  X_test, y_test = X.loc[test_cutoff], y.loc[test_cutoff]\n"
     ]
    }
   ],
   "source": [
    "# Split Data\n",
    "features = ['Team', 'Game', 'Home', 'Opponent', 'TotalPoints', 'Team_EFG', 'Opp_EFG', 'Team_TOV',\n",
    "       'Opp_TOV', 'Team_DRBP', 'Opp_DRBP', 'Team_FTR', 'Opp_FTR']\n",
    "target = 'Win'\n",
    "X = df.drop(columns=target)\n",
    "#X = df[features]\n",
    "y = df[target]\n",
    "\n",
    "# Train-Val-Test Split\n",
    "train_cutoff = slice(\"2014-10\",\"2016-04\")\n",
    "X_train, y_train = X.loc[train_cutoff], y.loc[train_cutoff]\n",
    "\n",
    "val_cutoff = slice(\"2016-10\",\"2017-04\")\n",
    "X_val, y_val = X.loc[val_cutoff], y.loc[val_cutoff]\n",
    "\n",
    "test_cutoff = slice(\"2017-10\",\"2018-04\")\n",
    "X_test, y_test = X.loc[test_cutoff], y.loc[test_cutoff]"
   ]
  },
  {
   "cell_type": "code",
   "execution_count": 88,
   "metadata": {},
   "outputs": [
    {
     "name": "stdout",
     "output_type": "stream",
     "text": [
      "Accuracy: 0.9089430894308943\n"
     ]
    }
   ],
   "source": [
    "# Build model\n",
    "model = make_pipeline(\n",
    "    OrdinalEncoder(),\n",
    "    RandomForestClassifier(random_state=42, n_jobs=-1)\n",
    ")\n",
    "model.fit(X_train, y_train)\n",
    "print('Accuracy:', accuracy_score(y_val, model.predict(X_val)))"
   ]
  },
  {
   "cell_type": "code",
   "execution_count": null,
   "metadata": {},
   "outputs": [],
   "source": []
  }
 ],
 "metadata": {
  "kernelspec": {
   "display_name": "Python 3.9.13 ('nba_game_predictor-dBKuDaAa')",
   "language": "python",
   "name": "python3"
  },
  "language_info": {
   "codemirror_mode": {
    "name": "ipython",
    "version": 3
   },
   "file_extension": ".py",
   "mimetype": "text/x-python",
   "name": "python",
   "nbconvert_exporter": "python",
   "pygments_lexer": "ipython3",
   "version": "3.9.13"
  },
  "orig_nbformat": 4,
  "vscode": {
   "interpreter": {
    "hash": "15b3dc0668541a65f820ae559a6b71f8078f88fa14b96ebe2b7bd37f6146fa00"
   }
  }
 },
 "nbformat": 4,
 "nbformat_minor": 2
}
