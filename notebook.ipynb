{
 "cells": [
  {
   "cell_type": "markdown",
   "metadata": {},
   "source": [
    "# NBA Game Predictor\n",
    "---\n",
    "\n",
    "**Purpose:** Predict the outcome of NBA games using the Four Factors (calculated from the game boxscores) and homecourt advantage"
   ]
  },
  {
   "cell_type": "code",
   "execution_count": 1,
   "metadata": {},
   "outputs": [],
   "source": [
    "# Imports\n",
    "import pandas as pd\n",
    "from sklearn.pipeline import make_pipeline\n",
    "from sklearn.linear_model import LogisticRegression, RidgeClassifier\n",
    "from sklearn.ensemble import RandomForestClassifier\n",
    "from xgboost import XGBClassifier\n",
    "from sklearn.preprocessing import StandardScaler\n",
    "from sklearn.inspection import permutation_importance\n",
    "import matplotlib.pyplot as plt\n",
    "\n",
    "import pickle as pk"
   ]
  },
  {
   "cell_type": "markdown",
   "metadata": {},
   "source": [
    "## Wrangle Data\n",
    "\n",
    "For this model, I will be using the 'Four Factors' as coined by Dean Oliver: Effective Shooting %, Turnover Rate, Defensive Rebounding Rate, and Free Throw Rate. These numbers use most of the traditional box score numbers to calculate four figures (per team) that are in the form of rates and offer fairer comparisons than the raw counting stats. \n",
    "\n",
    "Before calculating these new metrics, I will also need to create a Defensive Rebounds feature (DefRebound) in order to calculate the Rebounding Rate.\n",
    "\n",
    "The WINorLOSS and Home features also need to be converted to 1s and 0s for a Logistic Regression model."
   ]
  },
  {
   "cell_type": "code",
   "execution_count": null,
   "metadata": {},
   "outputs": [],
   "source": [
    "pd.read_csv('data/nba.games.stats.csv', parse_dates=['Date'], index_col='Date').columns"
   ]
  },
  {
   "cell_type": "code",
   "execution_count": 3,
   "metadata": {},
   "outputs": [],
   "source": [
    "def wrangle_fourfactors(filepath):\n",
    "    \"\"\"Wrangle data\"\"\"\n",
    "    df = pd.read_csv(filepath,\n",
    "                     parse_dates=['Date'],\n",
    "                     index_col='Date')\n",
    "    \n",
    "    # Drop leaky columns and extraneous 'unnamed' column\n",
    "    drop_cols = ['TeamPoints', 'OpponentPoints', 'Unnamed: 0']\n",
    "    df.drop(columns=drop_cols, inplace=True)\n",
    "    \n",
    "    # Transform WINorLOSS to binary values, rename to Win\n",
    "    df['WINorLOSS'] = df['WINorLOSS'].map({'W':1, 'L':0})\n",
    "    df.rename(columns={'WINorLOSS':'win'}, inplace=True)\n",
    "    \n",
    "    # Transform Home to binary value\n",
    "    df['Home'] = df['Home'].map({'Home':1,'Away':0})\n",
    "    \n",
    "    # Create Defensive Rebounds feature\n",
    "    df['DefRebound'] = df['TotalRebounds'] - df['OffRebounds']\n",
    "    df['Opp.DefRebound'] = df['Opp.TotalRebounds'] - df['Opp.OffRebounds']\n",
    "    \n",
    "    ##########################################\n",
    "    ## Create features for the 'Four Factors' \n",
    "    \n",
    "    # Shooting : (FG + 0.5 * 3FG) / FGA\n",
    "    df['h_efg'] = (df['FieldGoals'] + 0.5 * df['X3PointShots']) / df['FieldGoalsAttempted']\n",
    "    df['a_efg'] = (df['Opp.FieldGoals'] + 0.5 * df['Opp.3PointShots']) / df['Opp.FieldGoalsAttempted']\n",
    "    \n",
    "    # Turnovers : TOV / (FGA + 0.44 * FTA + TOV)\n",
    "    df['h_tov'] = df['Turnovers'] / (df['FieldGoalsAttempted'] + 0.44 * df['FreeThrowsAttempted'] + df['Turnovers'])\n",
    "    df['a_tov'] = df['Opp.Turnovers'] / (df['Opp.FieldGoalsAttempted'] + 0.44 * df['Opp.FreeThrowsAttempted'] + df['Opp.Turnovers'])\n",
    "    \n",
    "    # Rebounding : DRB / (Opp ORB + DRB)\n",
    "    df['h_drb'] = df['DefRebound'] / (df['Opp.OffRebounds'] + df['DefRebound'])\n",
    "    df['a_drb'] = df['Opp.DefRebound'] / (df['OffRebounds'] + df['Opp.DefRebound'])\n",
    "    \n",
    "    # Freethrows : FT / FGA\n",
    "    df['h_ftr'] = df['FreeThrows'] / df['FieldGoalsAttempted']\n",
    "    df['a_ftr'] = df['Opp.FreeThrows'] / df['Opp.FieldGoalsAttempted']\n",
    "    \n",
    "    ##########################################\n",
    "    \n",
    "    return df[['h_efg', 'a_efg', 'h_tov', 'a_tov', 'h_drb', 'a_drb', 'h_ftr', 'a_ftr', 'win']]\n",
    "\n",
    "df = wrangle_fourfactors('data/nba.games.stats.csv')"
   ]
  },
  {
   "cell_type": "code",
   "execution_count": 4,
   "metadata": {},
   "outputs": [
    {
     "name": "stdout",
     "output_type": "stream",
     "text": [
      "(9840, 9)\n"
     ]
    },
    {
     "data": {
      "text/html": [
       "<div>\n",
       "<style scoped>\n",
       "    .dataframe tbody tr th:only-of-type {\n",
       "        vertical-align: middle;\n",
       "    }\n",
       "\n",
       "    .dataframe tbody tr th {\n",
       "        vertical-align: top;\n",
       "    }\n",
       "\n",
       "    .dataframe thead th {\n",
       "        text-align: right;\n",
       "    }\n",
       "</style>\n",
       "<table border=\"1\" class=\"dataframe\">\n",
       "  <thead>\n",
       "    <tr style=\"text-align: right;\">\n",
       "      <th></th>\n",
       "      <th>h_efg</th>\n",
       "      <th>a_efg</th>\n",
       "      <th>h_tov</th>\n",
       "      <th>a_tov</th>\n",
       "      <th>h_drb</th>\n",
       "      <th>a_drb</th>\n",
       "      <th>h_ftr</th>\n",
       "      <th>a_ftr</th>\n",
       "      <th>win</th>\n",
       "    </tr>\n",
       "    <tr>\n",
       "      <th>Date</th>\n",
       "      <th></th>\n",
       "      <th></th>\n",
       "      <th></th>\n",
       "      <th></th>\n",
       "      <th></th>\n",
       "      <th></th>\n",
       "      <th></th>\n",
       "      <th></th>\n",
       "      <th></th>\n",
       "    </tr>\n",
       "  </thead>\n",
       "  <tbody>\n",
       "    <tr>\n",
       "      <th>2014-10-29</th>\n",
       "      <td>0.581250</td>\n",
       "      <td>0.455556</td>\n",
       "      <td>0.162711</td>\n",
       "      <td>0.079281</td>\n",
       "      <td>0.666667</td>\n",
       "      <td>0.761905</td>\n",
       "      <td>0.112500</td>\n",
       "      <td>0.300000</td>\n",
       "      <td>0</td>\n",
       "    </tr>\n",
       "    <tr>\n",
       "      <th>2014-11-01</th>\n",
       "      <td>0.557971</td>\n",
       "      <td>0.456790</td>\n",
       "      <td>0.125628</td>\n",
       "      <td>0.166297</td>\n",
       "      <td>0.755556</td>\n",
       "      <td>0.916667</td>\n",
       "      <td>0.362319</td>\n",
       "      <td>0.222222</td>\n",
       "      <td>1</td>\n",
       "    </tr>\n",
       "    <tr>\n",
       "      <th>2014-11-05</th>\n",
       "      <td>0.456522</td>\n",
       "      <td>0.485507</td>\n",
       "      <td>0.118354</td>\n",
       "      <td>0.181436</td>\n",
       "      <td>0.710526</td>\n",
       "      <td>0.795918</td>\n",
       "      <td>0.086957</td>\n",
       "      <td>0.391304</td>\n",
       "      <td>0</td>\n",
       "    </tr>\n",
       "    <tr>\n",
       "      <th>2014-11-07</th>\n",
       "      <td>0.532258</td>\n",
       "      <td>0.525773</td>\n",
       "      <td>0.153921</td>\n",
       "      <td>0.148577</td>\n",
       "      <td>0.738095</td>\n",
       "      <td>0.851064</td>\n",
       "      <td>0.215054</td>\n",
       "      <td>0.206186</td>\n",
       "      <td>0</td>\n",
       "    </tr>\n",
       "    <tr>\n",
       "      <th>2014-11-08</th>\n",
       "      <td>0.462963</td>\n",
       "      <td>0.523810</td>\n",
       "      <td>0.076307</td>\n",
       "      <td>0.144453</td>\n",
       "      <td>0.690476</td>\n",
       "      <td>0.720930</td>\n",
       "      <td>0.345679</td>\n",
       "      <td>0.095238</td>\n",
       "      <td>1</td>\n",
       "    </tr>\n",
       "  </tbody>\n",
       "</table>\n",
       "</div>"
      ],
      "text/plain": [
       "               h_efg     a_efg     h_tov     a_tov     h_drb     a_drb  \\\n",
       "Date                                                                     \n",
       "2014-10-29  0.581250  0.455556  0.162711  0.079281  0.666667  0.761905   \n",
       "2014-11-01  0.557971  0.456790  0.125628  0.166297  0.755556  0.916667   \n",
       "2014-11-05  0.456522  0.485507  0.118354  0.181436  0.710526  0.795918   \n",
       "2014-11-07  0.532258  0.525773  0.153921  0.148577  0.738095  0.851064   \n",
       "2014-11-08  0.462963  0.523810  0.076307  0.144453  0.690476  0.720930   \n",
       "\n",
       "               h_ftr     a_ftr  win  \n",
       "Date                                 \n",
       "2014-10-29  0.112500  0.300000    0  \n",
       "2014-11-01  0.362319  0.222222    1  \n",
       "2014-11-05  0.086957  0.391304    0  \n",
       "2014-11-07  0.215054  0.206186    0  \n",
       "2014-11-08  0.345679  0.095238    1  "
      ]
     },
     "execution_count": 4,
     "metadata": {},
     "output_type": "execute_result"
    }
   ],
   "source": [
    "# Check our wrangled data\n",
    "print(df.shape)\n",
    "df.head()"
   ]
  },
  {
   "cell_type": "markdown",
   "metadata": {},
   "source": [
    "## Split Data\n",
    "\n",
    "Here I will specify my target feature as the win column, and split the dataset into \n",
    "\n",
    "I will use a time-based split for the train-validation-test groups. The first 2 seasons will be training, the 3rd validation, and the 4th will be the test group."
   ]
  },
  {
   "cell_type": "code",
   "execution_count": 5,
   "metadata": {},
   "outputs": [],
   "source": [
    "# Split Data\n",
    "target = 'win'\n",
    "X = df.drop(columns=target)\n",
    "y = df[target]\n",
    "\n",
    "# Train-Val-Test Split\n",
    "train_cutoff = slice(\"2014-10-28\",\"2016-04-13\")\n",
    "X_train, y_train = X.loc[train_cutoff], y.loc[train_cutoff]\n",
    "\n",
    "val_cutoff = slice(\"2016-10-25\",\"2017-04-12\")\n",
    "X_val, y_val = X.loc[val_cutoff], y.loc[val_cutoff]\n",
    "\n",
    "test_cutoff = slice(\"2017-10-17\",\"2018-04-11\")\n",
    "X_test, y_test = X.loc[test_cutoff], y.loc[test_cutoff]"
   ]
  },
  {
   "cell_type": "markdown",
   "metadata": {},
   "source": [
    "## Build Models\n",
    "\n",
    "Build basic models of the following types:\n",
    "\n",
    "- LogisticRegressionClassifier\n",
    "- RidgeClassifier\n",
    "- RandomForestClassifier\n",
    "- GradientBoostedClassifier\n",
    "\n",
    "Compare performance of each model against the calculated baseline accuracy."
   ]
  },
  {
   "cell_type": "markdown",
   "metadata": {},
   "source": [
    "### Model Pipelines"
   ]
  },
  {
   "cell_type": "code",
   "execution_count": 6,
   "metadata": {},
   "outputs": [],
   "source": [
    "# Build LogisticRegressionClassifier model\n",
    "model_lr = make_pipeline(\n",
    "    StandardScaler(),\n",
    "    LogisticRegression(random_state=42)\n",
    ")\n",
    "\n",
    "model_lr.fit(X_train, y_train);"
   ]
  },
  {
   "cell_type": "code",
   "execution_count": 7,
   "metadata": {},
   "outputs": [],
   "source": [
    "# Build RidgeClassifier model\n",
    "model_rc = make_pipeline(\n",
    "    StandardScaler(),\n",
    "    RidgeClassifier(random_state=42)\n",
    ")\n",
    "model_rc.fit(X_train, y_train);"
   ]
  },
  {
   "cell_type": "code",
   "execution_count": 9,
   "metadata": {},
   "outputs": [],
   "source": [
    "# Build RandomForestClassifier model\n",
    "model_rf = make_pipeline(\n",
    "    RandomForestClassifier(random_state=42, n_jobs=-1)\n",
    ")\n",
    "model_rf.fit(X_train, y_train);"
   ]
  },
  {
   "cell_type": "code",
   "execution_count": 8,
   "metadata": {},
   "outputs": [],
   "source": [
    "# Build XGBoosted model\n",
    "model_gb = make_pipeline(\n",
    "    XGBClassifier(learning_rate=0.1)\n",
    ")\n",
    "model_gb.fit(X_train, y_train);"
   ]
  },
  {
   "cell_type": "markdown",
   "metadata": {},
   "source": [
    "### Model Accuracies"
   ]
  },
  {
   "cell_type": "code",
   "execution_count": 10,
   "metadata": {},
   "outputs": [
    {
     "name": "stdout",
     "output_type": "stream",
     "text": [
      "Model\t\t\t Accuracy\n",
      "Baseline:\t\t 0.5\n",
      "Logistic Regression:\t 0.9520325203252032\n",
      "Ridge Classifier:\t 0.9479674796747968\n",
      "Random Forest:\t\t 0.9044715447154471\n",
      "Gradient Boosting:\t 0.9146341463414634\n"
     ]
    }
   ],
   "source": [
    "# Compare accuracies of baseline and initial models\n",
    "print(\"Model\\t\\t\\t Accuracy\")\n",
    "print(\"Baseline:\\t\\t\", y_train.value_counts(normalize=True).max())\n",
    "print('Logistic Regression:\\t', model_lr.score(X_val, y_val))\n",
    "print('Ridge Classifier:\\t', model_rc.score(X_val, y_val))\n",
    "print('Random Forest:\\t\\t', model_rf.score(X_val, y_val))\n",
    "print('Gradient Boosting:\\t', model_gb.score(X_val, y_val))"
   ]
  },
  {
   "cell_type": "markdown",
   "metadata": {},
   "source": [
    "### Select Model"
   ]
  },
  {
   "cell_type": "code",
   "execution_count": 11,
   "metadata": {},
   "outputs": [],
   "source": [
    "# Select model\n",
    "m = 'lr'\n",
    "if m == 'lr':\n",
    "    model, estimator = model_lr, 'logisticregression'\n",
    "    t = 'reg'\n",
    "elif m == 'rc':\n",
    "    model, estimator = model_rc, 'ridgeclassifier'\n",
    "    t = 'reg'\n",
    "elif m == 'rf':\n",
    "    model, estimator = model_rf, 'randomforestclassifier'\n",
    "    t = 'tree'\n",
    "elif m == 'xgb':\n",
    "    model, estimator = model_gb, 'xgbclassifier'\n",
    "    t = 'tree'\n"
   ]
  },
  {
   "cell_type": "markdown",
   "metadata": {},
   "source": [
    "### Save Model"
   ]
  },
  {
   "cell_type": "code",
   "execution_count": 109,
   "metadata": {},
   "outputs": [],
   "source": [
    "# save model\n",
    "with open('predictor_app/model.pickle', 'wb') as f:\n",
    "    pk.dump(model, f, protocol=pk.HIGHEST_PROTOCOL)"
   ]
  },
  {
   "cell_type": "markdown",
   "metadata": {},
   "source": [
    "## Communicate Results"
   ]
  },
  {
   "cell_type": "markdown",
   "metadata": {},
   "source": [
    "### Feature Importances"
   ]
  },
  {
   "cell_type": "code",
   "execution_count": 153,
   "metadata": {},
   "outputs": [
    {
     "data": {
      "text/plain": [
       "Text(0, 0.5, 'Feature')"
      ]
     },
     "execution_count": 153,
     "metadata": {},
     "output_type": "execute_result"
    },
    {
     "data": {
      "image/png": "[encoded data removed]",
      "text/plain": [
       "<Figure size 432x288 with 1 Axes>"
      ]
     },
     "metadata": {
      "needs_background": "light"
     },
     "output_type": "display_data"
    }
   ],
   "source": [
    "# Feature Importance\n",
    "if t == 'reg':\n",
    "    importance = model.named_steps[estimator].coef_[0]\n",
    "elif t == 'tree':\n",
    "    importance = model.named_steps[estimator].feature_importances_\n",
    "features_names = X_train.columns\n",
    "pd.Series(data=importance, index=features_names).abs().sort_values().tail(10).plot(kind='barh')\n",
    "plt.ylabel('Feature')"
   ]
  },
  {
   "cell_type": "markdown",
   "metadata": {},
   "source": [
    "### Permutation Importances"
   ]
  },
  {
   "cell_type": "code",
   "execution_count": 150,
   "metadata": {},
   "outputs": [
    {
     "data": {
      "image/png": "[encoded data removed]",
      "text/plain": [
       "<Figure size 432x288 with 1 Axes>"
      ]
     },
     "metadata": {
      "needs_background": "light"
     },
     "output_type": "display_data"
    }
   ],
   "source": [
    "# Permutation Importance\n",
    "perm_imp = permutation_importance(model,X_val,y_val,random_state=42)\n",
    "data_perm = {'imp_mean':perm_imp['importance_mean'],\n",
    "             'imp_std':perm_imp['importance_std']}\n",
    "\n",
    "df_perm = pd.DataFrame(data_perm, index=X_val.columns).sort_values('imp_mean')\n",
    "df_perm.tail(10).plot(kind='barh')\n",
    "plt.title('permutation importance')\n",
    "plt.ylabel('features')\n",
    "plt.xlabel('importance');"
   ]
  }
 ],
 "metadata": {
  "kernelspec": {
   "display_name": "Python 3.9.13 ('nba_game_predictor-dBKuDaAa')",
   "language": "python",
   "name": "python3"
  },
  "language_info": {
   "codemirror_mode": {
    "name": "ipython",
    "version": 3
   },
   "file_extension": ".py",
   "mimetype": "text/x-python",
   "name": "python",
   "nbconvert_exporter": "python",
   "pygments_lexer": "ipython3",
   "version": "3.9.13"
  },
  "orig_nbformat": 4,
  "vscode": {
   "interpreter": {
    "hash": "15b3dc0668541a65f820ae559a6b71f8078f88fa14b96ebe2b7bd37f6146fa00"
   }
  }
 },
 "nbformat": 4,
 "nbformat_minor": 2
}
